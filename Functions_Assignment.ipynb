{
  "cells": [
    {
      "cell_type": "markdown",
      "source": [
        " 1. What is the difference between a function and a method in Python?\n",
        "\n",
        " A **function** is an independent block of code, while a **method** is a function associated with an object and typically operates on data within that object.\n",
        "\n",
        "\n"
      ],
      "metadata": {
        "id": "7OmaZ2NM4Ipe"
      }
    },
    {
      "cell_type": "markdown",
      "source": [
        " 2. Explain the concept of function arguments and parameters in Python.\n",
        "\n",
        " **Parameters** are variables defined in a function’s declaration, while **arguments** are the actual values passed to the function during its call, matching the parameters in position or name.\n"
      ],
      "metadata": {
        "id": "jHkRPVCPNf4m"
      }
    },
    {
      "cell_type": "markdown",
      "source": [
        " 3. What are the different ways to define and call a function in Python?\n"
      ],
      "metadata": {
        "id": "U031PZOg4-5g"
      }
    },
    {
      "cell_type": "code",
      "source": [
        "#Ways to Define a Function in Python\n",
        "#Standard Function\n",
        "def greet(name):\n",
        "    return f\"Hello, {name}!\"\n",
        "\n",
        "#Lambda Function\n",
        "greet = lambda name: f\"Hello, {name}!\"\n",
        "\n",
        "#Using def with Default Parameters\n",
        "def greet(name=\"Guest\"):\n",
        "    return f\"Hello, {name}!\"\n",
        "\n"
      ],
      "metadata": {
        "id": "G7GKUpik57be"
      },
      "execution_count": null,
      "outputs": []
    },
    {
      "cell_type": "code",
      "source": [
        "#Ways to Call a Function:\n",
        "\n",
        "#Positional Arguments\n",
        "greet(\"Alice\")\n",
        "\n",
        "#Keyword Arguments\n",
        "greet(name=\"Alice\")\n",
        "\n",
        "#Default Arguments (No argument passed; uses default value)\n",
        "greet()\n",
        "\n",
        "#Variable-length Arguments\n",
        "def greet(*args):\n",
        "    for name in args:\n",
        "        print(f\"Hello, {name}!\")\n",
        "greet(\"Alice\", \"Bob\")\n"
      ],
      "metadata": {
        "id": "qmRABp165AHo"
      },
      "execution_count": null,
      "outputs": []
    },
    {
      "cell_type": "markdown",
      "source": [
        "4. What is the purpose of the `return` statement in a Python function?\n",
        "\n",
        "The **`return`** statement in Python functions sends a value back to the caller, ending the function's execution. It allows functions to output results for further use or computation."
      ],
      "metadata": {
        "id": "c4c9uToF47we"
      }
    },
    {
      "cell_type": "markdown",
      "source": [
        "5. What are iterators in Python and how do they differ from iterables?\n",
        "\n",
        " An **iterator** is an object with `__iter__()` and `__next__()` methods, used to retrieve items one at a time. An **iterable** is any object that can be looped over (e.g., lists)."
      ],
      "metadata": {
        "id": "CJqh9xFJNlrp"
      }
    },
    {
      "cell_type": "markdown",
      "source": [
        "\n",
        " 6. Explain the concept of generators in Python and how they are defined.\n",
        "\n",
        " Generators are functions that yield values one at a time using the `yield` keyword, producing an iterator. They save state between calls, enabling memory-efficient iteration for large data sequences."
      ],
      "metadata": {
        "id": "tMtcvikJNqWF"
      }
    },
    {
      "cell_type": "markdown",
      "source": [
        "\n",
        " 7. What are the advantages of using generators over regular functions?\n",
        "\n",
        " Generators are memory-efficient, producing values on demand instead of storing them in memory. They simplify iteration, support infinite sequences, and maintain state automatically, reducing code complexity and improving performance.\n"
      ],
      "metadata": {
        "id": "fnrSS_E0NtZp"
      }
    },
    {
      "cell_type": "markdown",
      "source": [
        "\n",
        " 8. What is a lambda function in Python and when is it typically used?\n",
        "\n",
        " A **lambda function** is an anonymous, single-expression function defined using the `lambda` keyword. It's typically used for short, simple tasks like inline callbacks, sorting, or filtering data.\n",
        "\n",
        ""
      ],
      "metadata": {
        "id": "zsTwwjXSNwH1"
      }
    },
    {
      "cell_type": "markdown",
      "source": [
        "9. Explain the purpose and usage of the `map()` function in Python.\n",
        "\n",
        " The **`map()`** function applies a given function to each item in an iterable, returning a map object (iterator). It’s useful for transforming data without explicit loops. Example: `map(func, iterable)`.\n"
      ],
      "metadata": {
        "id": "g8Zs0T6oNyVk"
      }
    },
    {
      "cell_type": "markdown",
      "source": [
        " 10. What is the difference between `map()`, `reduce()`, and `filter()` functions in Python?\n",
        "\n",
        " - **`map()`** applies a function to each iterable element, returning transformed elements.  \n",
        "- **`filter()`** selects elements matching a condition.  \n",
        "- **`reduce()`** aggregates elements into a single result using a binary function."
      ],
      "metadata": {
        "id": "nk7JMOFNN0Ah"
      }
    },
    {
      "cell_type": "markdown",
      "source": [
        "1. Write a Python function that takes a list of numbers as input and returns the sum of all even numbers in\n",
        "the list"
      ],
      "metadata": {
        "id": "O-G0jGq-_E_a"
      }
    },
    {
      "cell_type": "code",
      "source": [
        "def sum_of_evens(numbers):\n",
        "    \"\"\"\n",
        "    Returns the sum of all even numbers in the input list.\n",
        "\n",
        "    :param numbers: List of integers\n",
        "    :return: Integer sum of even numbers\n",
        "    \"\"\"\n",
        "    return sum(num for num in numbers if num % 2 == 0)\n",
        "\n",
        "# Example usage\n",
        "numbers = [1, 2, 3, 4, 5, 6]\n",
        "result = sum_of_evens(numbers)\n",
        "print(f\"Sum of even numbers: {result}\")\n"
      ],
      "metadata": {
        "id": "op9rLyxB_vie"
      },
      "execution_count": null,
      "outputs": []
    },
    {
      "cell_type": "markdown",
      "source": [
        "2. Create a Python function that accepts a string and returns the reverse of that string."
      ],
      "metadata": {
        "id": "OJ0aaT6w_2b8"
      }
    },
    {
      "cell_type": "code",
      "source": [
        "def reverse_string(input_string):\n",
        "    \"\"\"\n",
        "    Returns the reverse of the given string.\n",
        "\n",
        "    :param input_string: String to be reversed\n",
        "    :return: Reversed string\n",
        "    \"\"\"\n",
        "    return input_string[::-1]\n",
        "\n",
        "# Example usage\n",
        "string = \"Hello, World!\"\n",
        "result = reverse_string(string)\n",
        "print(f\"Reversed string: {result}\")\n"
      ],
      "metadata": {
        "id": "G1Uys9xV_8Lk"
      },
      "execution_count": null,
      "outputs": []
    },
    {
      "cell_type": "markdown",
      "source": [
        "3. Implement a Python function that takes a list of integers and returns a new list containing the squares of each number."
      ],
      "metadata": {
        "id": "K52ykyeRAG8y"
      }
    },
    {
      "cell_type": "code",
      "source": [
        "def square_numbers(numbers):\n",
        "    \"\"\"\n",
        "    Returns a new list containing the squares of each number in the input list.\n",
        "\n",
        "    :param numbers: List of integers\n",
        "    :return: List of integers (squares)\n",
        "    \"\"\"\n",
        "    return [num ** 2 for num in numbers]\n",
        "\n",
        "# Example usage\n",
        "numbers = [1, 2, 3, 4, 5]\n",
        "result = square_numbers(numbers)\n",
        "print(f\"Squares of numbers: {result}\")\n"
      ],
      "metadata": {
        "id": "Za-Mp1EtAHYK"
      },
      "execution_count": null,
      "outputs": []
    },
    {
      "cell_type": "markdown",
      "source": [
        "4. Write a Python function that checks if a given number is prime or not from 1 to 200."
      ],
      "metadata": {
        "id": "7OeYutzOAXkB"
      }
    },
    {
      "cell_type": "code",
      "source": [
        "def is_prime(number):\n",
        "    \"\"\"\n",
        "    Checks if a given number is prime.\n",
        "\n",
        "    :param number: Integer to check for primality\n",
        "    :return: True if prime, False otherwise\n",
        "    \"\"\"\n",
        "    if number <= 1:\n",
        "        return False\n",
        "    for i in range(2, int(number ** 0.5) + 1):\n",
        "        if number % i == 0:\n",
        "            return False\n",
        "    return True\n",
        "\n",
        "# Example usage: Check primes from 1 to 200\n",
        "for num in range(1, 201):\n",
        "    if is_prime(num):\n",
        "        print(num, end=\" \")\n"
      ],
      "metadata": {
        "id": "xb_3E0WQAdqX"
      },
      "execution_count": null,
      "outputs": []
    },
    {
      "cell_type": "markdown",
      "source": [
        " 5. Create an iterator class in Python that generates the Fibonacci sequence up to a specified number of\n",
        "terms."
      ],
      "metadata": {
        "id": "8QuH5tZmAivz"
      }
    },
    {
      "cell_type": "code",
      "source": [
        "class FibonacciIterator:\n",
        "    \"\"\"\n",
        "    Iterator class to generate the Fibonacci sequence up to a specified number of terms.\n",
        "    \"\"\"\n",
        "    def __init__(self, n_terms):\n",
        "        self.n_terms = n_terms\n",
        "        self.current = 0\n",
        "        self.next = 1\n",
        "        self.count = 0\n",
        "\n",
        "    def __iter__(self):\n",
        "        return self\n",
        "\n",
        "    def __next__(self):\n",
        "        if self.count >= self.n_terms:\n",
        "            raise StopIteration\n",
        "        if self.count == 0:\n",
        "            self.count += 1\n",
        "            return 0\n",
        "        elif self.count == 1:\n",
        "            self.count += 1\n",
        "            return 1\n",
        "        else:\n",
        "            fib = self.current + self.next\n",
        "            self.current = self.next\n",
        "            self.next = fib\n",
        "            self.count += 1\n",
        "            return fib\n",
        "\n",
        "# Example usage\n",
        "n_terms = 10\n",
        "fib_iterator = FibonacciIterator(n_terms)\n",
        "print(f\"Fibonacci sequence ({n_terms} terms):\", list(fib_iterator))\n"
      ],
      "metadata": {
        "id": "EySD-grdApP5"
      },
      "execution_count": null,
      "outputs": []
    },
    {
      "cell_type": "markdown",
      "source": [
        " 6. Write a generator function in Python that yields the powers of 2 up to a given exponent."
      ],
      "metadata": {
        "id": "jeFU5Nv_Av5v"
      }
    },
    {
      "cell_type": "code",
      "source": [
        "def powers_of_two(max_exponent):\n",
        "    \"\"\"\n",
        "    Generator function that yields powers of 2 up to a given exponent.\n",
        "\n",
        "    :param max_exponent: The highest exponent for 2\n",
        "    \"\"\"\n",
        "    for exponent in range(max_exponent + 1):\n",
        "        yield 2 ** exponent\n",
        "\n",
        "# Example usage\n",
        "max_exponent = 10\n",
        "print(f\"Powers of 2 up to 2^{max_exponent}:\")\n",
        "for value in powers_of_two(max_exponent):\n",
        "    print(value, end=\" \")\n"
      ],
      "metadata": {
        "id": "rothsmplA1Lw"
      },
      "execution_count": null,
      "outputs": []
    },
    {
      "cell_type": "markdown",
      "source": [
        "7. Implement a generator function that reads a file line by line and yields each line as a string."
      ],
      "metadata": {
        "id": "zQkiGPmXA7P9"
      }
    },
    {
      "cell_type": "code",
      "source": [
        "def read_file_line_by_line(file_path):\n",
        "    \"\"\"\n",
        "    Generator function that reads a file line by line.\n",
        "\n",
        "    :param file_path: Path to the file to be read\n",
        "    \"\"\"\n",
        "    try:\n",
        "        with open(file_path, 'r') as file:\n",
        "            for line in file:\n",
        "                yield line.strip()  # Use strip() to remove trailing newline characters\n",
        "    except FileNotFoundError:\n",
        "        yield f\"Error: File '{file_path}' not found.\"\n",
        "\n",
        "# Example usage\n",
        "file_path = \"example.txt\"\n",
        "for line in read_file_line_by_line(file_path):\n",
        "    print(line)\n"
      ],
      "metadata": {
        "id": "-RjSpJxgBBsN"
      },
      "execution_count": null,
      "outputs": []
    },
    {
      "cell_type": "markdown",
      "source": [
        " 8. Use a lambda function in Python to sort a list of tuples based on the second element of each tuple."
      ],
      "metadata": {
        "id": "gtY_so1lBGOD"
      }
    },
    {
      "cell_type": "code",
      "source": [
        "# List of tuples\n",
        "tuples_list = [(1, 3), (4, 1), (2, 2), (5, 0)]\n",
        "\n",
        "# Sorting based on the second element of each tuple\n",
        "sorted_list = sorted(tuples_list, key=lambda x: x[1])\n",
        "\n",
        "print(\"Sorted list:\", sorted_list)\n"
      ],
      "metadata": {
        "id": "R3YTOsUXBLVp"
      },
      "execution_count": null,
      "outputs": []
    },
    {
      "cell_type": "markdown",
      "source": [
        " 9. Write a Python program that uses `map()` to convert a list of temperatures from Celsius to Fahrenheit."
      ],
      "metadata": {
        "id": "PqC5GJsQBRz7"
      }
    },
    {
      "cell_type": "code",
      "source": [
        "def celsius_to_fahrenheit(celsius):\n",
        "    \"\"\"\n",
        "    Converts Celsius to Fahrenheit.\n",
        "    :param celsius: Temperature in Celsius\n",
        "    :return: Temperature in Fahrenheit\n",
        "    \"\"\"\n",
        "    return (celsius * 9/5) + 32\n",
        "\n",
        "# List of temperatures in Celsius\n",
        "celsius_temperatures = [0, 20, 37, 100]\n",
        "\n",
        "# Convert to Fahrenheit using map()\n",
        "fahrenheit_temperatures = list(map(celsius_to_fahrenheit, celsius_temperatures))\n",
        "\n",
        "print(\"Temperatures in Fahrenheit:\", fahrenheit_temperatures)\n"
      ],
      "metadata": {
        "id": "bK5K2r2MBLvM"
      },
      "execution_count": null,
      "outputs": []
    },
    {
      "cell_type": "markdown",
      "source": [
        "10. Create a Python program that uses `filter()` to remove all the vowels from a given string."
      ],
      "metadata": {
        "id": "vnFOK8I1Bd_A"
      }
    },
    {
      "cell_type": "code",
      "source": [
        "def is_not_vowel(char):\n",
        "    \"\"\"\n",
        "    Checks if a character is not a vowel.\n",
        "    :param char: Single character\n",
        "    :return: True if not a vowel, False otherwise\n",
        "    \"\"\"\n",
        "    vowels = \"aeiouAEIOU\"\n",
        "    return char not in vowels\n",
        "\n",
        "# Input string\n",
        "input_string = \"This is a sample string with vowels.\"\n",
        "\n",
        "# Use filter() to remove vowels\n",
        "filtered_string = ''.join(filter(is_not_vowel, input_string))\n",
        "\n",
        "print(\"String without vowels:\", filtered_string)\n"
      ],
      "metadata": {
        "id": "qgX3pSMOBjtL"
      },
      "execution_count": null,
      "outputs": []
    },
    {
      "cell_type": "markdown",
      "source": [
        " 11) Imagine an accounting routine used in a book shop. It works on a list with sublists, which look like this"
      ],
      "metadata": {
        "id": "Nmx1N1S4ClVe"
      }
    },
    {
      "cell_type": "code",
      "source": [
        "# Data as a list of sublists\n",
        "book_shop_data = [\n",
        "    [34587, \"Learning Python, Mark Lutz\", 4, 40.95],\n",
        "    [98762, \"Programming Python, Mark Lutz\", 5, 56.80],\n",
        "    [77226, \"Head First Python, Paul Barry\", 3, 32.95],\n",
        "    [88112, \"Einführung in Python3, Bernd Klein\", 3, 24.99]\n",
        "]\n",
        "\n",
        "# Function to calculate the total cost for each order\n",
        "def calculate_total(data):\n",
        "    results = []\n",
        "    for order in data:\n",
        "        order_number = order[0]\n",
        "        quantity = order[2]\n",
        "        price_per_item = order[3]\n",
        "        total_cost = quantity * price_per_item\n",
        "        # Append order number and total cost as a tuple\n",
        "        results.append((order_number, total_cost))\n",
        "    return results\n",
        "\n",
        "# Calculate totals\n",
        "totals = calculate_total(book_shop_data)\n",
        "\n",
        "# Print each order's total\n",
        "for order_number, total_cost in totals:\n",
        "    print(f\"Order Number: {order_number}, Total Cost: ${total_cost:.2f}\")\n",
        "\n",
        "# Calculate grand total\n",
        "grand_total = sum(total_cost for _, total_cost in totals)\n",
        "print(f\"\\nGrand Total: ${grand_total:.2f}\")"
      ],
      "metadata": {
        "id": "hPVxjzHbCds_"
      },
      "execution_count": null,
      "outputs": []
    }
  ],
  "metadata": {
    "colab": {
      "provenance": []
    },
    "kernelspec": {
      "display_name": "Python 3",
      "name": "python3"
    }
  },
  "nbformat": 4,
  "nbformat_minor": 0
}